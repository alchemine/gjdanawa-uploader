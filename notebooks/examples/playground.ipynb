{
 "cells": [
  {
   "cell_type": "code",
   "execution_count": 28,
   "metadata": {},
   "outputs": [
    {
     "name": "stdout",
     "output_type": "stream",
     "text": [
      "The autoreload extension is already loaded. To reload it, use:\n",
      "  %reload_ext autoreload\n"
     ]
    }
   ],
   "source": [
    "%load_ext autoreload\n",
    "%autoreload 2\n",
    "\n",
    "\n",
    "from gjdanawa_uploader.utils.crawling import *\n",
    "from os import environ\n",
    "from pprint import pprint"
   ]
  },
  {
   "cell_type": "code",
   "execution_count": 2,
   "metadata": {},
   "outputs": [],
   "source": [
    "driver = get_chrome_driver(\"dev\")\n",
    "url = \"https://gjdanawa.com\"\n",
    "load_url(driver, url)"
   ]
  },
  {
   "cell_type": "code",
   "execution_count": 3,
   "metadata": {},
   "outputs": [],
   "source": [
    "id_selector = \"#member_id\"\n",
    "pw_selector = \"#pass\"\n",
    "\n",
    "id_value = environ[\"ID\"] or \"ans5454\"\n",
    "pw_value = environ[\"PASSWORD\"] or \"tkajszld@94\"\n",
    "\n",
    "send_keys(driver, id_selector, id_value)\n",
    "send_keys(driver, pw_selector, pw_value, enter=True)\n",
    "click_alert(driver, action=\"accept\")"
   ]
  },
  {
   "cell_type": "code",
   "execution_count": 4,
   "metadata": {},
   "outputs": [],
   "source": [
    "url = \"https://gjdanawa.com/modify.php?gubun=2&gubun2=1&num=1626858&id=\"\n",
    "load_url(driver, url)"
   ]
  },
  {
   "cell_type": "markdown",
   "metadata": {},
   "source": [
    "### category\n"
   ]
  },
  {
   "cell_type": "code",
   "execution_count": 30,
   "metadata": {},
   "outputs": [
    {
     "name": "stdout",
     "output_type": "stream",
     "text": [
      "{'거제면 | 아파트': {'거제반도유보라': ['소분류'],\n",
      "               '거제장평포레나': ['소분류'],\n",
      "               '더샵거제디클리브': ['소분류'],\n",
      "               '유림노르웨이숲디오션': ['소분류'],\n",
      "               '이편한유로스카이': ['소분류'],\n",
      "               '이편한유로아일랜드': ['소분류'],\n",
      "               '한신더휴': ['소분류']},\n",
      " '고현동 | 아파트': {'거제반도유보라': ['소분류'],\n",
      "               '거제장평포레나': ['소분류'],\n",
      "               '더샵거제디클리브': ['소분류'],\n",
      "               '유림노르웨이숲디오션': ['소분류'],\n",
      "               '이편한유로스카이': ['소분류'],\n",
      "               '이편한유로아일랜드': ['소분류'],\n",
      "               '한신더휴': ['소분류']},\n",
      " '기타동 | 아파트': {'거제반도유보라': ['소분류'],\n",
      "               '거제장평포레나': ['소분류'],\n",
      "               '더샵거제디클리브': ['소분류'],\n",
      "               '유림노르웨이숲디오션': ['소분류'],\n",
      "               '이편한유로스카이': ['소분류'],\n",
      "               '이편한유로아일랜드': ['소분류'],\n",
      "               '한신더휴': ['소분류']},\n",
      " '능포동 | 아파트': {'거제반도유보라': ['소분류'],\n",
      "               '거제장평포레나': ['소분류'],\n",
      "               '더샵거제디클리브': ['소분류'],\n",
      "               '유림노르웨이숲디오션': ['소분류'],\n",
      "               '이편한유로스카이': ['소분류'],\n",
      "               '이편한유로아일랜드': ['소분류'],\n",
      "               '한신더휴': ['소분류']},\n",
      " '문동동 | 아파트': {'거제반도유보라': ['소분류'],\n",
      "               '거제장평포레나': ['소분류'],\n",
      "               '더샵거제디클리브': ['소분류'],\n",
      "               '유림노르웨이숲디오션': ['소분류'],\n",
      "               '이편한유로스카이': ['소분류'],\n",
      "               '이편한유로아일랜드': ['소분류'],\n",
      "               '한신더휴': ['소분류']},\n",
      " '사등면 | 아파트': {'거제반도유보라': ['소분류'],\n",
      "               '거제장평포레나': ['소분류'],\n",
      "               '더샵거제디클리브': ['소분류'],\n",
      "               '유림노르웨이숲디오션': ['소분류'],\n",
      "               '이편한유로스카이': ['소분류'],\n",
      "               '이편한유로아일랜드': ['소분류'],\n",
      "               '한신더휴': ['소분류']},\n",
      " '상동동 | 아파트': {'거제반도유보라': ['소분류'],\n",
      "               '거제장평포레나': ['소분류'],\n",
      "               '더샵거제디클리브': ['소분류'],\n",
      "               '유림노르웨이숲디오션': ['소분류'],\n",
      "               '이편한유로스카이': ['소분류'],\n",
      "               '이편한유로아일랜드': ['소분류'],\n",
      "               '한신더휴': ['소분류']},\n",
      " '수월동 | 아파트': {'거제반도유보라': ['소분류'],\n",
      "               '거제장평포레나': ['소분류'],\n",
      "               '더샵거제디클리브': ['소분류'],\n",
      "               '유림노르웨이숲디오션': ['소분류'],\n",
      "               '이편한유로스카이': ['소분류'],\n",
      "               '이편한유로아일랜드': ['소분류'],\n",
      "               '한신더휴': ['소분류']},\n",
      " '아주동 | 아파트': {'거제반도유보라': ['소분류'],\n",
      "               '거제장평포레나': ['소분류'],\n",
      "               '더샵거제디클리브': ['소분류'],\n",
      "               '유림노르웨이숲디오션': ['소분류'],\n",
      "               '이편한유로스카이': ['소분류'],\n",
      "               '이편한유로아일랜드': ['소분류'],\n",
      "               '한신더휴': ['소분류']},\n",
      " '아파트분양권': {'거제반도유보라': ['소분류'],\n",
      "            '거제장평포레나': ['소분류'],\n",
      "            '더샵거제디클리브': ['소분류'],\n",
      "            '유림노르웨이숲디오션': ['소분류'],\n",
      "            '이편한유로스카이': ['소분류'],\n",
      "            '이편한유로아일랜드': ['소분류'],\n",
      "            '한신더휴': ['소분류']},\n",
      " '양정동 | 아파트': {'거제반도유보라': ['소분류'],\n",
      "               '거제장평포레나': ['소분류'],\n",
      "               '더샵거제디클리브': ['소분류'],\n",
      "               '유림노르웨이숲디오션': ['소분류'],\n",
      "               '이편한유로스카이': ['소분류'],\n",
      "               '이편한유로아일랜드': ['소분류'],\n",
      "               '한신더휴': ['소분류']},\n",
      " '연초면 | 아파트': {'거제반도유보라': ['소분류'],\n",
      "               '거제장평포레나': ['소분류'],\n",
      "               '더샵거제디클리브': ['소분류'],\n",
      "               '유림노르웨이숲디오션': ['소분류'],\n",
      "               '이편한유로스카이': ['소분류'],\n",
      "               '이편한유로아일랜드': ['소분류'],\n",
      "               '한신더휴': ['소분류']},\n",
      " '오피스텔': {'거제반도유보라': ['소분류'],\n",
      "          '거제장평포레나': ['소분류'],\n",
      "          '더샵거제디클리브': ['소분류'],\n",
      "          '유림노르웨이숲디오션': ['소분류'],\n",
      "          '이편한유로스카이': ['소분류'],\n",
      "          '이편한유로아일랜드': ['소분류'],\n",
      "          '한신더휴': ['소분류']},\n",
      " '옥포동 | 아파트': {'거제반도유보라': ['소분류'],\n",
      "               '거제장평포레나': ['소분류'],\n",
      "               '더샵거제디클리브': ['소분류'],\n",
      "               '유림노르웨이숲디오션': ['소분류'],\n",
      "               '이편한유로스카이': ['소분류'],\n",
      "               '이편한유로아일랜드': ['소분류'],\n",
      "               '한신더휴': ['소분류']},\n",
      " '원룸 | 투룸': {'거제반도유보라': ['소분류'],\n",
      "             '거제장평포레나': ['소분류'],\n",
      "             '더샵거제디클리브': ['소분류'],\n",
      "             '유림노르웨이숲디오션': ['소분류'],\n",
      "             '이편한유로스카이': ['소분류'],\n",
      "             '이편한유로아일랜드': ['소분류'],\n",
      "             '한신더휴': ['소분류']},\n",
      " '일운면 | 아파트': {'거제반도유보라': ['소분류'],\n",
      "               '거제장평포레나': ['소분류'],\n",
      "               '더샵거제디클리브': ['소분류'],\n",
      "               '유림노르웨이숲디오션': ['소분류'],\n",
      "               '이편한유로스카이': ['소분류'],\n",
      "               '이편한유로아일랜드': ['소분류'],\n",
      "               '한신더휴': ['소분류']},\n",
      " '장승포동 | 아파트': {'거제반도유보라': ['소분류'],\n",
      "                '거제장평포레나': ['소분류'],\n",
      "                '더샵거제디클리브': ['소분류'],\n",
      "                '유림노르웨이숲디오션': ['소분류'],\n",
      "                '이편한유로스카이': ['소분류'],\n",
      "                '이편한유로아일랜드': ['소분류'],\n",
      "                '한신더휴': ['소분류']},\n",
      " '장평동 | 아파트': {'거제반도유보라': ['소분류'],\n",
      "               '거제장평포레나': ['소분류'],\n",
      "               '더샵거제디클리브': ['소분류'],\n",
      "               '유림노르웨이숲디오션': ['소분류'],\n",
      "               '이편한유로스카이': ['소분류'],\n",
      "               '이편한유로아일랜드': ['소분류'],\n",
      "               '한신더휴': ['소분류']},\n",
      " '주택 | 빌라': {'거제반도유보라': ['소분류'],\n",
      "             '거제장평포레나': ['소분류'],\n",
      "             '더샵거제디클리브': ['소분류'],\n",
      "             '유림노르웨이숲디오션': ['소분류'],\n",
      "             '이편한유로스카이': ['소분류'],\n",
      "             '이편한유로아일랜드': ['소분류'],\n",
      "             '한신더휴': ['소분류']}}\n"
     ]
    }
   ],
   "source": [
    "category_values = {}\n",
    "category1_selector = \"#category1\"\n",
    "category2_selector = \"#category2\"\n",
    "category3_selector = \"#category3\"\n",
    "\n",
    "category1_values = get_option_values(driver, category1_selector, except_str=\"대분류\")\n",
    "for category1_value in category1_values:\n",
    "    select(driver, category1_selector, category1_value)\n",
    "    for category2_value in get_option_values(\n",
    "        driver, category2_selector, except_str=\"중분류\"\n",
    "    ):\n",
    "        select(driver, category2_selector, category2_value)\n",
    "        for category3_value in get_option_values(driver, category3_selector):\n",
    "            select(driver, category3_selector, category3_value)\n",
    "            category_values[category1_value] = category_values.get(category1_value, {})\n",
    "            category_values[category1_value][category2_value] = category_values[\n",
    "                category1_value\n",
    "            ].get(category2_value, [])\n",
    "            category_values[category1_value][category2_value].append(category3_value)\n",
    "            # category_values.append((category1_value, category2_value, category3_value))\n",
    "\n",
    "# for cat in category_values:\n",
    "#     print(cat)\n",
    "pprint(category_values)"
   ]
  },
  {
   "cell_type": "markdown",
   "metadata": {},
   "source": [
    "##\n"
   ]
  },
  {
   "cell_type": "code",
   "execution_count": 33,
   "metadata": {},
   "outputs": [
    {
     "data": {
      "text/plain": [
       "['매매', '전세', '월세']"
      ]
     },
     "execution_count": 33,
     "metadata": {},
     "output_type": "execute_result"
    }
   ],
   "source": [
    "gubun2_selector = \"#gubun2\"\n",
    "gubun_values = get_option_values(driver, gubun2_selector, except_str=\"매물구분\")\n",
    "gubun_values"
   ]
  },
  {
   "cell_type": "code",
   "execution_count": 37,
   "metadata": {},
   "outputs": [],
   "source": [
    "main_view_selector = \"#main_view\"  # tag_name == \"input\"\n",
    "# Select the main view\n",
    "elem = find_element(driver, main_view_selector)\n",
    "elem.click()"
   ]
  },
  {
   "cell_type": "code",
   "execution_count": 43,
   "metadata": {},
   "outputs": [],
   "source": [
    "title_selector = \"#title\"\n",
    "title_value = \"테스트 제목\"\n",
    "send_keys(driver, title_selector, title_value)"
   ]
  },
  {
   "cell_type": "code",
   "execution_count": 53,
   "metadata": {},
   "outputs": [
    {
     "data": {
      "text/plain": [
       "<selenium.webdriver.remote.webelement.WebElement (session=\"42ec91d9312661b014f82ceae9fe5e7c\", element=\"f.44DC46996AC3C23A2CC88A6499817FE8.d.175E11B5E4234DE513A84295CF08B3B3.e.18544\")>"
      ]
     },
     "execution_count": 53,
     "metadata": {},
     "output_type": "execute_result"
    }
   ],
   "source": [
    "find_element(driver, \"select[name='si'][hname='지역']\")"
   ]
  },
  {
   "cell_type": "code",
   "execution_count": 54,
   "metadata": {},
   "outputs": [
    {
     "data": {
      "text/plain": [
       "<selenium.webdriver.remote.webelement.WebElement (session=\"42ec91d9312661b014f82ceae9fe5e7c\", element=\"f.44DC46996AC3C23A2CC88A6499817FE8.d.175E11B5E4234DE513A84295CF08B3B3.e.18268\")>"
      ]
     },
     "execution_count": 54,
     "metadata": {},
     "output_type": "execute_result"
    }
   ],
   "source": [
    "find_element(driver, \"select#gu\")"
   ]
  },
  {
   "cell_type": "code",
   "execution_count": 55,
   "metadata": {},
   "outputs": [
    {
     "data": {
      "text/plain": [
       "<selenium.webdriver.remote.webelement.WebElement (session=\"42ec91d9312661b014f82ceae9fe5e7c\", element=\"f.44DC46996AC3C23A2CC88A6499817FE8.d.175E11B5E4234DE513A84295CF08B3B3.e.18279\")>"
      ]
     },
     "execution_count": 55,
     "metadata": {},
     "output_type": "execute_result"
    }
   ],
   "source": [
    "find_element(driver, \"select#addr\")"
   ]
  },
  {
   "cell_type": "code",
   "execution_count": 58,
   "metadata": {},
   "outputs": [
    {
     "name": "stdout",
     "output_type": "stream",
     "text": [
      "{'경남': {'거제시': ['거제면',\n",
      "                '고현동',\n",
      "                '남부면',\n",
      "                '능포동',\n",
      "                '덕포동',\n",
      "                '동부면',\n",
      "                '두모동',\n",
      "                '둔덕면',\n",
      "                '마전동',\n",
      "                '문동동',\n",
      "                '사등면',\n",
      "                '삼거동',\n",
      "                '상동동',\n",
      "                '수월동',\n",
      "                '아양동',\n",
      "                '아주동',\n",
      "                '양정동',\n",
      "                '연초면',\n",
      "                '옥포1동',\n",
      "                '옥포2동',\n",
      "                '옥포동',\n",
      "                '일운면',\n",
      "                '장목면',\n",
      "                '장승포동',\n",
      "                '장평동',\n",
      "                '하청면',\n",
      "                '기타']}}\n"
     ]
    }
   ],
   "source": [
    "category_values = {}\n",
    "category1_selector = \"select[name='si'][hname='지역']\"\n",
    "category2_selector = \"select#gu\"\n",
    "category3_selector = \"select#addr\"\n",
    "\n",
    "category1_values = get_option_values(driver, category1_selector, except_str=\"지역선택\")\n",
    "for category1_value in category1_values:\n",
    "    select(driver, category1_selector, category1_value)\n",
    "    for category2_value in get_option_values(\n",
    "        driver, category2_selector, except_str=\"구선택\"\n",
    "    ):\n",
    "        select(driver, category2_selector, category2_value)\n",
    "        for category3_value in get_option_values(\n",
    "            driver, category3_selector, except_str=\"동선택\"\n",
    "        ):\n",
    "            select(driver, category3_selector, category3_value)\n",
    "            category_values[category1_value] = category_values.get(category1_value, {})\n",
    "            category_values[category1_value][category2_value] = category_values[\n",
    "                category1_value\n",
    "            ].get(category2_value, [])\n",
    "            category_values[category1_value][category2_value].append(category3_value)\n",
    "            # category_values.append((category1_value, category2_value, category3_value))\n",
    "\n",
    "# for cat in category_values:\n",
    "#     print(cat)\n",
    "pprint(category_values)"
   ]
  }
 ],
 "metadata": {
  "kernelspec": {
   "display_name": "gjdanawa-uploader-1SJUkjNL-py3.12",
   "language": "python",
   "name": "python3"
  },
  "language_info": {
   "codemirror_mode": {
    "name": "ipython",
    "version": 3
   },
   "file_extension": ".py",
   "mimetype": "text/x-python",
   "name": "python",
   "nbconvert_exporter": "python",
   "pygments_lexer": "ipython3",
   "version": "3.12.4"
  }
 },
 "nbformat": 4,
 "nbformat_minor": 2
}
